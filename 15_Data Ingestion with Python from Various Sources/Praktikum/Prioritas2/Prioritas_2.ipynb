{
 "cells": [
  {
   "cell_type": "markdown",
   "metadata": {},
   "source": [
    "# Soal Prioritas 2\n",
    "\n",
    "1. Persiapan Lingkungan Pengembangan:\n",
    "    - Pastikan Python sudah terinstal di sistem Anda.\n",
    "    - Install library yang diperlukan: requests untuk mengirim permintaan HTTP, dan beautifulsoup4 untuk parsing HTML.\n"
   ]
  },
  {
   "cell_type": "code",
   "execution_count": 1,
   "metadata": {},
   "outputs": [
    {
     "name": "stdout",
     "output_type": "stream",
     "text": [
      "Requirement already satisfied: requests in c:\\users\\asus\\appdata\\local\\programs\\python\\python312\\lib\\site-packages (2.31.0)\n",
      "Requirement already satisfied: beautifulsoup4 in c:\\users\\asus\\appdata\\local\\programs\\python\\python312\\lib\\site-packages (4.12.3)\n",
      "Requirement already satisfied: charset-normalizer<4,>=2 in c:\\users\\asus\\appdata\\local\\programs\\python\\python312\\lib\\site-packages (from requests) (3.3.2)\n",
      "Requirement already satisfied: idna<4,>=2.5 in c:\\users\\asus\\appdata\\local\\programs\\python\\python312\\lib\\site-packages (from requests) (3.7)\n",
      "Requirement already satisfied: urllib3<3,>=1.21.1 in c:\\users\\asus\\appdata\\local\\programs\\python\\python312\\lib\\site-packages (from requests) (2.2.1)\n",
      "Requirement already satisfied: certifi>=2017.4.17 in c:\\users\\asus\\appdata\\local\\programs\\python\\python312\\lib\\site-packages (from requests) (2024.2.2)\n",
      "Requirement already satisfied: soupsieve>1.2 in c:\\users\\asus\\appdata\\local\\programs\\python\\python312\\lib\\site-packages (from beautifulsoup4) (2.5)\n",
      "Note: you may need to restart the kernel to use updated packages.\n"
     ]
    }
   ],
   "source": [
    "%pip install requests beautifulsoup4"
   ]
  },
  {
   "cell_type": "markdown",
   "metadata": {},
   "source": [
    "2. Pemilihan Situs E-commerce dan Produk:\n",
    "    - Pilih situs e-commerce yang akan di-scrape (misalnya, Amazon, Tokopedia, dll.).\n",
    "    - Tentukan produk spesifik yang ulasannya ingin Anda kumpulkan.\n",
    "3. Ekstraksi Data Ulasan:\n",
    "    - Gunakan library requests untuk mengirim permintaan ke halaman produk.\n",
    "    - Dengan BeautifulSoup, parse HTML yang diterima untuk mengekstrak informasi ulasan, seperti rating, teks ulasan, tanggal ulasan, dan nama pengguna.\n",
    "4. Penanganan Pagination:\n",
    "    - Jika ulasan produk terdapat di beberapa halaman, implementasikan logika untuk menelusuri setiap halaman.\n",
    "    - Ekstrak data ulasan dari setiap halaman tersebut.\n",
    "5. Pembersihan dan Penyimpanan Data:\n",
    "    - Bersihkan data yang telah diekstrak dari tag HTML dan format yang tidak diperlukan.\n",
    "    - Simpan data ulasan ke dalam format yang diinginkan, seperti CSV atau database."
   ]
  },
  {
   "cell_type": "code",
   "execution_count": 3,
   "metadata": {},
   "outputs": [],
   "source": [
    "import requests\n",
    "from bs4 import BeautifulSoup\n",
    "import pandas as pd\n",
    "\n",
    "base_url = \"https://id.barenbliss.com/collections/makeup?page=\"\n",
    "current_page = 1\n",
    "all_products = []\n",
    "\n",
    "while True:\n",
    "    url = base_url + str(current_page)\n",
    "    response = requests.get(url)\n",
    "\n",
    "    if response.status_code == 200:\n",
    "        html = BeautifulSoup(response.content, 'html.parser')\n",
    "        products = html.find_all(\"div\", class_=\"product--root\")\n",
    "        \n",
    "        if len(products) == 0:\n",
    "            break  # No more pages to scrape\n",
    "        \n",
    "        for product in products:\n",
    "            link_product = product.find(\"a\")['href']\n",
    "            product_name = product.find(\"div\", class_=\"product--details-wrapper\").get_text().strip()\n",
    "            product_price = product.find(\"div\", class_=\"product--price-wrapper\").get_text().strip()\n",
    "\n",
    "            product_data = {\n",
    "                \"Product Name\": product_name,\n",
    "                \"Price\": product_price,\n",
    "                \"Link\": link_product\n",
    "            }\n",
    "            all_products.append(product_data)\n",
    "        \n",
    "        current_page += 1\n",
    "    else:\n",
    "        print(\"Failed to retrieve page:\", url)\n",
    "        break\n",
    "\n",
    "df_all_products = pd.DataFrame(all_products)\n",
    "df_all_products.to_csv(\"barenbliss_products.csv\", index=False)"
   ]
  }
 ],
 "metadata": {
  "kernelspec": {
   "display_name": "Python 3",
   "language": "python",
   "name": "python3"
  },
  "language_info": {
   "codemirror_mode": {
    "name": "ipython",
    "version": 3
   },
   "file_extension": ".py",
   "mimetype": "text/x-python",
   "name": "python",
   "nbconvert_exporter": "python",
   "pygments_lexer": "ipython3",
   "version": "3.12.2"
  }
 },
 "nbformat": 4,
 "nbformat_minor": 2
}
