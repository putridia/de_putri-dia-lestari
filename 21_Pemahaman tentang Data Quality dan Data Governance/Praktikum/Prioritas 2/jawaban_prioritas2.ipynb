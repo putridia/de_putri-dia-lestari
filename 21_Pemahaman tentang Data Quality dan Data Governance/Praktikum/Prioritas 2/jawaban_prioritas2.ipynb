{
 "cells": [
  {
   "cell_type": "code",
   "execution_count": 8,
   "metadata": {},
   "outputs": [
    {
     "name": "stdout",
     "output_type": "stream",
     "text": [
      "     transaction_id     customer_name transaction_amount   phone_number  \\\n",
      "0                 1         John Thor           Rp 54000  +81 234564030   \n",
      "1                 2        Jane Smith           Rp 25000  +81 234567891   \n",
      "3                 4       Emily Davis           Rp 32000  +81 234567893   \n",
      "5                 6    Susan Anderson           Rp 61000  +81 234567895   \n",
      "6                 7      Robert Clark           Rp 29000  +81 234567896   \n",
      "..              ...               ...                ...            ...   \n",
      "113             114   Sharon Anderson           Rp 61000  +81 234567823   \n",
      "114             115       David Davis           Rp 29000  +81 234567824   \n",
      "115             116         Mary Hall           Rp 48000  +81 234567825   \n",
      "117             118  Elizabeth Turner           Rp 54000  +81 234567827   \n",
      "118             119      Robert Smith           Rp 25000  +81 234567828   \n",
      "\n",
      "    transaction_type transaction_status  \n",
      "0         paket data            success  \n",
      "1              pulsa            success  \n",
      "3         paket data            success  \n",
      "5       voucher game            success  \n",
      "6              pulsa            success  \n",
      "..               ...                ...  \n",
      "113            pulsa            success  \n",
      "114          ewallet            success  \n",
      "115       paket data            success  \n",
      "117            pulsa            success  \n",
      "118     voucher game            success  \n",
      "\n",
      "[70 rows x 6 columns]\n"
     ]
    }
   ],
   "source": [
    "import pandas as pd\n",
    "\n",
    "# Load the dataset\n",
    "df = pd.read_csv(\"tx_data.csv\")\n",
    "\n",
    "# Add formatting to the phone number column\n",
    "df[\"phone_number\"] = \"+62\" + df[\"phone_number\"].astype(str)\n",
    "\n",
    "# Add formatting to the transaction amount column\n",
    "df[\"transaction_amount\"] = \"Rp \" + df[\"transaction_amount\"].astype(str)\n",
    "\n",
    "# Filter the dataset to only include successful transactions\n",
    "df = df[df['transaction_status'] == 'success']\n",
    "\n",
    "# Display the resulting DataFrame\n",
    "print(df)"
   ]
  }
 ],
 "metadata": {
  "kernelspec": {
   "display_name": "Python 3",
   "language": "python",
   "name": "python3"
  },
  "language_info": {
   "codemirror_mode": {
    "name": "ipython",
    "version": 3
   },
   "file_extension": ".py",
   "mimetype": "text/x-python",
   "name": "python",
   "nbconvert_exporter": "python",
   "pygments_lexer": "ipython3",
   "version": "3.12.2"
  }
 },
 "nbformat": 4,
 "nbformat_minor": 2
}
