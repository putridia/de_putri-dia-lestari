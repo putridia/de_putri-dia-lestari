{
 "cells": [
  {
   "cell_type": "markdown",
   "metadata": {},
   "source": [
    "# Soal Prioritas 1"
   ]
  },
  {
   "cell_type": "markdown",
   "metadata": {},
   "source": [
    "#### 1. Normalisasi Data: Normalisasi harga rumah dan harga per meter persegi menggunakan teknik Min-Max."
   ]
  },
  {
   "cell_type": "code",
   "execution_count": 4,
   "metadata": {},
   "outputs": [
    {
     "name": "stdout",
     "output_type": "stream",
     "text": [
      "                                                        avg_price  \\\n",
      "room_number category_Köhnə tikili category_Yeni tikili              \n",
      "1.0         False                 True                   0.018380   \n",
      "            True                  False                  0.012295   \n",
      "2.0         False                 True                   0.026653   \n",
      "            True                  False                  0.017951   \n",
      "3.0         False                 True                   0.044644   \n",
      "            True                  False                  0.027152   \n",
      "4.0         False                 True                   0.074255   \n",
      "            True                  False                  0.036024   \n",
      "5.0         False                 True                   0.118087   \n",
      "            True                  False                  0.048823   \n",
      "6.0         False                 True                   0.160358   \n",
      "            True                  False                  0.117555   \n",
      "7.0         False                 True                   0.199524   \n",
      "            True                  False                  0.146445   \n",
      "8.0         False                 True                   0.324756   \n",
      "            True                  False                  0.222635   \n",
      "9.0         False                 True                   0.276606   \n",
      "10.0        False                 True                   0.357852   \n",
      "            True                  False                  0.526721   \n",
      "11.0        False                 True                   0.385526   \n",
      "12.0        True                  False                  0.388681   \n",
      "14.0        False                 True                   0.201341   \n",
      "15.0        False                 True                   0.623472   \n",
      "\n",
      "                                                        median_price  \\\n",
      "room_number category_Köhnə tikili category_Yeni tikili                 \n",
      "1.0         False                 True                      0.017945   \n",
      "            True                  False                     0.011635   \n",
      "2.0         False                 True                      0.024847   \n",
      "            True                  False                     0.016959   \n",
      "3.0         False                 True                      0.042595   \n",
      "            True                  False                     0.024551   \n",
      "4.0         False                 True                      0.067245   \n",
      "            True                  False                     0.029777   \n",
      "5.0         False                 True                      0.096825   \n",
      "            True                  False                     0.034017   \n",
      "6.0         False                 True                      0.142181   \n",
      "            True                  False                     0.092881   \n",
      "7.0         False                 True                      0.167817   \n",
      "            True                  False                     0.117531   \n",
      "8.0         False                 True                      0.246697   \n",
      "            True                  False                     0.171761   \n",
      "9.0         False                 True                      0.229935   \n",
      "10.0        False                 True                      0.309801   \n",
      "            True                  False                     0.526721   \n",
      "11.0        False                 True                      0.385526   \n",
      "12.0        True                  False                     0.388681   \n",
      "14.0        False                 True                      0.201341   \n",
      "15.0        False                 True                      0.585880   \n",
      "\n",
      "                                                        mode_price  \n",
      "room_number category_Köhnə tikili category_Yeni tikili              \n",
      "1.0         False                 True                    0.019917  \n",
      "            True                  False                   0.013015  \n",
      "2.0         False                 True                    0.022875  \n",
      "            True                  False                   0.017945  \n",
      "3.0         False                 True                    0.043581  \n",
      "            True                  False                   0.028791  \n",
      "4.0         False                 True                    0.063301  \n",
      "            True                  False                   0.026819  \n",
      "5.0         False                 True                    0.083021  \n",
      "            True                  False                   0.037665  \n",
      "6.0         False                 True                    0.191481  \n",
      "            True                  False                   0.048511  \n",
      "7.0         False                 True                    0.061724  \n",
      "            True                  False                   0.026819  \n",
      "8.0         False                 True                    0.104713  \n",
      "            True                  False                   0.142161  \n",
      "9.0         False                 True                    0.152041  \n",
      "10.0        False                 True                    0.485309  \n",
      "            True                  False                   0.526721  \n",
      "11.0        False                 True                    0.329521  \n",
      "12.0        True                  False                   0.388681  \n",
      "14.0        False                 True                    0.201341  \n",
      "15.0        False                 True                    0.585880  \n"
     ]
    }
   ],
   "source": [
    "import pandas as pd\n",
    "from sklearn.preprocessing import MinMaxScaler\n",
    "\n",
    "# Memuat data ke dalam DataFrame\n",
    "house_data = pd.read_csv('house_listings.csv')\n",
    "\n",
    "# Membersihkan kolom 'price' dari karakter non-numerik dan mengubahnya menjadi float\n",
    "house_data['price'] = house_data['price'].str.replace(' ', '').astype(float)\n",
    "\n",
    "# Membersihkan kolom 'price_1m2' dari karakter non-numerik dan mengubahnya menjadi float\n",
    "house_data['price_1m2'] = house_data['price_1m2'].str.replace(' AZN/m²', '').str.replace(' ', '').astype(float)\n",
    "\n",
    "# Normalisasi harga rumah dan harga per meter persegi menggunakan Min-Max scaling\n",
    "scaler = MinMaxScaler()\n",
    "house_data[['price', 'price_1m2']] = scaler.fit_transform(house_data[['price', 'price_1m2']])\n",
    "\n",
    "# Encoding data kategorikal\n",
    "house_data = pd.get_dummies(house_data, columns=['category', 'title_deed', 'repair', 'mortgage'])\n",
    "\n",
    "# Aggregasi data\n",
    "aggregated_data = house_data.groupby(['room_number', 'category_Köhnə tikili', 'category_Yeni tikili']).agg({'price': ['mean', 'median', lambda x: x.mode()[0]]})\n",
    "aggregated_data.columns = ['avg_price', 'median_price', 'mode_price']\n",
    "\n",
    "# Menyimpan hasil aggregasi ke file Excel\n",
    "aggregated_data.to_excel('aggregated_data.xlsx')\n",
    "\n",
    "# Menampilkan hasil aggregasi\n",
    "print(aggregated_data)"
   ]
  }
 ],
 "metadata": {
  "kernelspec": {
   "display_name": "Python 3",
   "language": "python",
   "name": "python3"
  },
  "language_info": {
   "codemirror_mode": {
    "name": "ipython",
    "version": 3
   },
   "file_extension": ".py",
   "mimetype": "text/x-python",
   "name": "python",
   "nbconvert_exporter": "python",
   "pygments_lexer": "ipython3",
   "version": "3.12.2"
  }
 },
 "nbformat": 4,
 "nbformat_minor": 2
}
