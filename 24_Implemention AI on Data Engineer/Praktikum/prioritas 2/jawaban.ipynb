{
 "cells": [
  {
   "cell_type": "code",
   "execution_count": 5,
   "metadata": {},
   "outputs": [
    {
     "name": "stdout",
     "output_type": "stream",
     "text": [
      "```sql\n",
      "-- Buat schema database\n",
      "CREATE SCHEMA IF NOT EXISTS retail;\n",
      "\n",
      "-- Buat tabel penjualan\n",
      "CREATE TABLE retail.penjualan (\n",
      "    id_penjualan INT PRIMARY KEY AUTO_INCREMENT,\n",
      "    tanggal_transaksi DATE,\n",
      "    jumlah_penjualan INT,\n",
      "    harga DECIMAL(10, 2),\n",
      "    kategori_produk VARCHAR(255)\n",
      ");\n",
      "\n",
      "-- Masukkan data ke dalam tabel penjualan\n",
      "INSERT INTO retail.penjualan (tanggal_transaksi, jumlah_penjualan, harga, kategori_produk) VALUES\n",
      "('2023-01-01', 10, 100, 'Elektronik'),\n",
      "('2023-01-02', 5, 50, 'Makanan'),\n",
      "('2023-01-03', 15, 150, 'Pakaian'),\n",
      "('2023-01-04', 8, 80, 'Elektronik'),\n",
      "('2023-01-05', 12, 120, 'Makanan'),\n",
      "('2023-01-06', 10, 100, 'Pakaian'),\n",
      "('2023-01-07', 6, 60, 'Elektronik'),\n",
      "('2023-01-08', 9, 90, 'Makanan'),\n",
      "('2023-01-09', 14, 140, 'Pakaian'),\n",
      "('2023-01-10', 7, 70, 'Elektronik');\n",
      "\n",
      "-- Tampilkan total penjualan untuk setiap kategori produk\n",
      "SELECT kategori_produk, SUM(jumlah_penjualan) AS total_penjualan\n",
      "FROM retail.penjualan\n",
      "GROUP BY kategori_produk\n",
      "ORDER BY total_penjualan DESC\n",
      "LIMIT 10;\n",
      "```\n"
     ]
    }
   ],
   "source": [
    "import yaml\n",
    "import google.generativeai as genai\n",
    "\n",
    "with open('key.yml', 'r') as file:\n",
    "    api_creds = yaml.safe_load(file)\n",
    "\n",
    "GOOGLE_API_KEY = api_creds['gemini_key']\n",
    "\n",
    "genai.configure(api_key=GOOGLE_API_KEY)\n",
    "AI = genai.GenerativeModel('gemini-pro')\n",
    "\n",
    "response = AI.generate_content(\"Buatkan SQL query untuk membuat schema database terkait aplikasi retail. Dataset Penjualan yang mencakup informasi seperti tanggal transaksi, jumlah penjualan, harga, kategori produk, dan lainnya. Gunakan SQL query dengan tabel penjualan untuk menghitung jumlah penjualan untuk setiap kategori produk dan hasilkan output sebanyak 10 baris yang menampilkan nama kategori produk beserta total penjualannya.\")\n",
    "print(response.text)"
   ]
  }
 ],
 "metadata": {
  "kernelspec": {
   "display_name": "Python 3",
   "language": "python",
   "name": "python3"
  },
  "language_info": {
   "codemirror_mode": {
    "name": "ipython",
    "version": 3
   },
   "file_extension": ".py",
   "mimetype": "text/x-python",
   "name": "python",
   "nbconvert_exporter": "python",
   "pygments_lexer": "ipython3",
   "version": "3.12.2"
  }
 },
 "nbformat": 4,
 "nbformat_minor": 2
}
